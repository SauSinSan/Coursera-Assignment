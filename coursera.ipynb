<center>
    <img src="https://cf-courses-data.s3.us.cloud-object-storage.appdomain.cloud/IBMDeveloperSkillsNetwork-DS0105EN-SkillsNetwork/labs/Module2/images/SN_web_lightmode.png" width="300" alt="cognitiveclass.ai logo">
</center>

#### Add your code below following the instructions given in the course

# Data Science Tools and Ecosystem
In this notebook, Data Science Tools and Ecosystem are summarized.
# Objectives:
- Popular languages that Data Scientists use
- Commonly used libraries used by Data Scientists
- Data Science Tools
- Examples of evaluating arithmetic expressions in Python
Some of the popular languages that Data Scientists use are:
1. Python
2. R
3. Julia
4. Scala
Some of the commonly used libraries used by Data Scientists include:
1. Numpy
2. Pandas
3. Matplotlib
4. Scikit
| Data Science Tools |
|-----------------|
|Spyder|
|Jupyter Lab|
|VS Code|
### Below are a few examples of evaluating arithmetic expressions in Python.

3+4



# This a simple arithmetic expression to mutiply then add integers
(3*4)+5
# This will convert 200 minutes to hours by diving by 60
200 / 60
## Author
Saurabh Singh Sankhla
